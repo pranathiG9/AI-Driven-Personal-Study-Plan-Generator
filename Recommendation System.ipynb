{
 "cells": [
  {
   "cell_type": "code",
   "execution_count": 1,
   "id": "ac8d2710",
   "metadata": {
    "execution": {
     "iopub.execute_input": "2024-12-17T14:12:21.952397Z",
     "iopub.status.busy": "2024-12-17T14:12:21.951741Z",
     "iopub.status.idle": "2024-12-17T14:12:24.695614Z",
     "shell.execute_reply": "2024-12-17T14:12:24.694470Z"
    },
    "papermill": {
     "duration": 2.756483,
     "end_time": "2024-12-17T14:12:24.699470",
     "exception": false,
     "start_time": "2024-12-17T14:12:21.942987",
     "status": "completed"
    },
    "tags": []
   },
   "outputs": [],
   "source": [
    "import pandas as pd     \n",
    "import numpy as np\n",
    "import nltk\n",
    "import string\n",
    "import nltk\n",
    "import matplotlib.pyplot as plt\n",
    "import re\n",
    "from sklearn.metrics.pairwise import cosine_similarity"
   ]
  },
  {
   "cell_type": "code",
   "execution_count": 2,
   "id": "f5683128",
   "metadata": {
    "execution": {
     "iopub.execute_input": "2024-12-17T14:12:24.716371Z",
     "iopub.status.busy": "2024-12-17T14:12:24.715701Z",
     "iopub.status.idle": "2024-12-17T14:12:24.905301Z",
     "shell.execute_reply": "2024-12-17T14:12:24.904091Z"
    },
    "papermill": {
     "duration": 0.202084,
     "end_time": "2024-12-17T14:12:24.908172",
     "exception": false,
     "start_time": "2024-12-17T14:12:24.706088",
     "status": "completed"
    },
    "tags": []
   },
   "outputs": [],
   "source": [
    "data=pd.read_csv(\"Coursera.csv\")"
   ]
  },
  {
   "cell_type": "code",
   "execution_count": 3,
   "id": "751cafaf",
   "metadata": {
    "execution": {
     "iopub.execute_input": "2024-12-17T14:12:24.923130Z",
     "iopub.status.busy": "2024-12-17T14:12:24.922659Z",
     "iopub.status.idle": "2024-12-17T14:12:24.946985Z",
     "shell.execute_reply": "2024-12-17T14:12:24.945806Z"
    },
    "papermill": {
     "duration": 0.034851,
     "end_time": "2024-12-17T14:12:24.949729",
     "exception": false,
     "start_time": "2024-12-17T14:12:24.914878",
     "status": "completed"
    },
    "tags": []
   },
   "outputs": [
    {
     "data": {
      "text/html": [
       "<div>\n",
       "<style scoped>\n",
       "    .dataframe tbody tr th:only-of-type {\n",
       "        vertical-align: middle;\n",
       "    }\n",
       "\n",
       "    .dataframe tbody tr th {\n",
       "        vertical-align: top;\n",
       "    }\n",
       "\n",
       "    .dataframe thead th {\n",
       "        text-align: right;\n",
       "    }\n",
       "</style>\n",
       "<table border=\"1\" class=\"dataframe\">\n",
       "  <thead>\n",
       "    <tr style=\"text-align: right;\">\n",
       "      <th></th>\n",
       "      <th>Course Name</th>\n",
       "      <th>University</th>\n",
       "      <th>Difficulty Level</th>\n",
       "      <th>Course Rating</th>\n",
       "      <th>Course URL</th>\n",
       "      <th>Course Description</th>\n",
       "      <th>Skills</th>\n",
       "    </tr>\n",
       "  </thead>\n",
       "  <tbody>\n",
       "    <tr>\n",
       "      <th>0</th>\n",
       "      <td>Write A Feature Length Screenplay For Film Or ...</td>\n",
       "      <td>Michigan State University</td>\n",
       "      <td>Beginner</td>\n",
       "      <td>4.8</td>\n",
       "      <td>https://www.coursera.org/learn/write-a-feature...</td>\n",
       "      <td>Write a Full Length Feature Film Script  In th...</td>\n",
       "      <td>Drama  Comedy  peering  screenwriting  film  D...</td>\n",
       "    </tr>\n",
       "    <tr>\n",
       "      <th>1</th>\n",
       "      <td>Business Strategy: Business Model Canvas Analy...</td>\n",
       "      <td>Coursera Project Network</td>\n",
       "      <td>Beginner</td>\n",
       "      <td>4.8</td>\n",
       "      <td>https://www.coursera.org/learn/canvas-analysis...</td>\n",
       "      <td>By the end of this guided project, you will be...</td>\n",
       "      <td>Finance  business plan  persona (user experien...</td>\n",
       "    </tr>\n",
       "    <tr>\n",
       "      <th>2</th>\n",
       "      <td>Silicon Thin Film Solar Cells</td>\n",
       "      <td>�cole Polytechnique</td>\n",
       "      <td>Advanced</td>\n",
       "      <td>4.1</td>\n",
       "      <td>https://www.coursera.org/learn/silicon-thin-fi...</td>\n",
       "      <td>This course consists of a general presentation...</td>\n",
       "      <td>chemistry  physics  Solar Energy  film  lambda...</td>\n",
       "    </tr>\n",
       "    <tr>\n",
       "      <th>3</th>\n",
       "      <td>Finance for Managers</td>\n",
       "      <td>IESE Business School</td>\n",
       "      <td>Intermediate</td>\n",
       "      <td>4.8</td>\n",
       "      <td>https://www.coursera.org/learn/operational-fin...</td>\n",
       "      <td>When it comes to numbers, there is always more...</td>\n",
       "      <td>accounts receivable  dupont analysis  analysis...</td>\n",
       "    </tr>\n",
       "    <tr>\n",
       "      <th>4</th>\n",
       "      <td>Retrieve Data using Single-Table SQL Queries</td>\n",
       "      <td>Coursera Project Network</td>\n",
       "      <td>Beginner</td>\n",
       "      <td>4.6</td>\n",
       "      <td>https://www.coursera.org/learn/single-table-sq...</td>\n",
       "      <td>In this course you�ll learn how to effectively...</td>\n",
       "      <td>Data Analysis  select (sql)  database manageme...</td>\n",
       "    </tr>\n",
       "  </tbody>\n",
       "</table>\n",
       "</div>"
      ],
      "text/plain": [
       "                                         Course Name   \n",
       "0  Write A Feature Length Screenplay For Film Or ...  \\\n",
       "1  Business Strategy: Business Model Canvas Analy...   \n",
       "2                      Silicon Thin Film Solar Cells   \n",
       "3                               Finance for Managers   \n",
       "4       Retrieve Data using Single-Table SQL Queries   \n",
       "\n",
       "                  University Difficulty Level Course Rating   \n",
       "0  Michigan State University         Beginner           4.8  \\\n",
       "1   Coursera Project Network         Beginner           4.8   \n",
       "2        �cole Polytechnique         Advanced           4.1   \n",
       "3       IESE Business School     Intermediate           4.8   \n",
       "4   Coursera Project Network         Beginner           4.6   \n",
       "\n",
       "                                          Course URL   \n",
       "0  https://www.coursera.org/learn/write-a-feature...  \\\n",
       "1  https://www.coursera.org/learn/canvas-analysis...   \n",
       "2  https://www.coursera.org/learn/silicon-thin-fi...   \n",
       "3  https://www.coursera.org/learn/operational-fin...   \n",
       "4  https://www.coursera.org/learn/single-table-sq...   \n",
       "\n",
       "                                  Course Description   \n",
       "0  Write a Full Length Feature Film Script  In th...  \\\n",
       "1  By the end of this guided project, you will be...   \n",
       "2  This course consists of a general presentation...   \n",
       "3  When it comes to numbers, there is always more...   \n",
       "4  In this course you�ll learn how to effectively...   \n",
       "\n",
       "                                              Skills  \n",
       "0  Drama  Comedy  peering  screenwriting  film  D...  \n",
       "1  Finance  business plan  persona (user experien...  \n",
       "2  chemistry  physics  Solar Energy  film  lambda...  \n",
       "3  accounts receivable  dupont analysis  analysis...  \n",
       "4  Data Analysis  select (sql)  database manageme...  "
      ]
     },
     "execution_count": 3,
     "metadata": {},
     "output_type": "execute_result"
    }
   ],
   "source": [
    "data.head()"
   ]
  },
  {
   "cell_type": "code",
   "execution_count": 4,
   "id": "ef2fab01",
   "metadata": {},
   "outputs": [
    {
     "data": {
      "text/html": [
       "<div>\n",
       "<style scoped>\n",
       "    .dataframe tbody tr th:only-of-type {\n",
       "        vertical-align: middle;\n",
       "    }\n",
       "\n",
       "    .dataframe tbody tr th {\n",
       "        vertical-align: top;\n",
       "    }\n",
       "\n",
       "    .dataframe thead th {\n",
       "        text-align: right;\n",
       "    }\n",
       "</style>\n",
       "<table border=\"1\" class=\"dataframe\">\n",
       "  <thead>\n",
       "    <tr style=\"text-align: right;\">\n",
       "      <th></th>\n",
       "      <th>Course Name</th>\n",
       "      <th>University</th>\n",
       "      <th>Difficulty Level</th>\n",
       "      <th>Course Rating</th>\n",
       "      <th>Course URL</th>\n",
       "      <th>Course Description</th>\n",
       "      <th>Skills</th>\n",
       "    </tr>\n",
       "  </thead>\n",
       "  <tbody>\n",
       "    <tr>\n",
       "      <th>3517</th>\n",
       "      <td>Capstone: Retrieving, Processing, and Visualiz...</td>\n",
       "      <td>University of Michigan</td>\n",
       "      <td>Beginner</td>\n",
       "      <td>4.6</td>\n",
       "      <td>https://www.coursera.org/learn/python-data-vis...</td>\n",
       "      <td>In the capstone, students will build a series ...</td>\n",
       "      <td>Databases  syntax  analysis  web  Data Visuali...</td>\n",
       "    </tr>\n",
       "    <tr>\n",
       "      <th>3518</th>\n",
       "      <td>Patrick Henry: Forgotten Founder</td>\n",
       "      <td>University of Virginia</td>\n",
       "      <td>Intermediate</td>\n",
       "      <td>4.9</td>\n",
       "      <td>https://www.coursera.org/learn/henry</td>\n",
       "      <td>�Give me liberty, or give me death:� Rememberi...</td>\n",
       "      <td>retirement  Causality  career  history of the ...</td>\n",
       "    </tr>\n",
       "    <tr>\n",
       "      <th>3519</th>\n",
       "      <td>Business intelligence and data analytics: Gene...</td>\n",
       "      <td>Macquarie University</td>\n",
       "      <td>Advanced</td>\n",
       "      <td>4.6</td>\n",
       "      <td>https://www.coursera.org/learn/business-intell...</td>\n",
       "      <td>�Megatrends� heavily influence today�s organis...</td>\n",
       "      <td>analytics  tableau software  Business Intellig...</td>\n",
       "    </tr>\n",
       "    <tr>\n",
       "      <th>3520</th>\n",
       "      <td>Rigid Body Dynamics</td>\n",
       "      <td>Korea Advanced Institute of Science and Techno...</td>\n",
       "      <td>Beginner</td>\n",
       "      <td>4.6</td>\n",
       "      <td>https://www.coursera.org/learn/rigid-body-dyna...</td>\n",
       "      <td>This course teaches dynamics, one of the basic...</td>\n",
       "      <td>Angular  Mechanical Design  fluid mechanics  F...</td>\n",
       "    </tr>\n",
       "    <tr>\n",
       "      <th>3521</th>\n",
       "      <td>Architecting with Google Kubernetes Engine: Pr...</td>\n",
       "      <td>Google Cloud</td>\n",
       "      <td>Intermediate</td>\n",
       "      <td>4.7</td>\n",
       "      <td>https://www.coursera.org/learn/deploying-secur...</td>\n",
       "      <td>In this course, \"Architecting with Google Kube...</td>\n",
       "      <td>bigtable  bigquery  SQL  Google Cloud Platform...</td>\n",
       "    </tr>\n",
       "  </tbody>\n",
       "</table>\n",
       "</div>"
      ],
      "text/plain": [
       "                                            Course Name   \n",
       "3517  Capstone: Retrieving, Processing, and Visualiz...  \\\n",
       "3518                   Patrick Henry: Forgotten Founder   \n",
       "3519  Business intelligence and data analytics: Gene...   \n",
       "3520                                Rigid Body Dynamics   \n",
       "3521  Architecting with Google Kubernetes Engine: Pr...   \n",
       "\n",
       "                                             University Difficulty Level   \n",
       "3517                             University of Michigan         Beginner  \\\n",
       "3518                             University of Virginia     Intermediate   \n",
       "3519                               Macquarie University         Advanced   \n",
       "3520  Korea Advanced Institute of Science and Techno...         Beginner   \n",
       "3521                                       Google Cloud     Intermediate   \n",
       "\n",
       "     Course Rating                                         Course URL   \n",
       "3517           4.6  https://www.coursera.org/learn/python-data-vis...  \\\n",
       "3518           4.9               https://www.coursera.org/learn/henry   \n",
       "3519           4.6  https://www.coursera.org/learn/business-intell...   \n",
       "3520           4.6  https://www.coursera.org/learn/rigid-body-dyna...   \n",
       "3521           4.7  https://www.coursera.org/learn/deploying-secur...   \n",
       "\n",
       "                                     Course Description   \n",
       "3517  In the capstone, students will build a series ...  \\\n",
       "3518  �Give me liberty, or give me death:� Rememberi...   \n",
       "3519  �Megatrends� heavily influence today�s organis...   \n",
       "3520  This course teaches dynamics, one of the basic...   \n",
       "3521  In this course, \"Architecting with Google Kube...   \n",
       "\n",
       "                                                 Skills  \n",
       "3517  Databases  syntax  analysis  web  Data Visuali...  \n",
       "3518  retirement  Causality  career  history of the ...  \n",
       "3519  analytics  tableau software  Business Intellig...  \n",
       "3520  Angular  Mechanical Design  fluid mechanics  F...  \n",
       "3521  bigtable  bigquery  SQL  Google Cloud Platform...  "
      ]
     },
     "execution_count": 4,
     "metadata": {},
     "output_type": "execute_result"
    }
   ],
   "source": [
    "data.tail()"
   ]
  },
  {
   "cell_type": "code",
   "execution_count": 5,
   "id": "64632610",
   "metadata": {
    "execution": {
     "iopub.execute_input": "2024-12-17T14:12:24.964824Z",
     "iopub.status.busy": "2024-12-17T14:12:24.964330Z",
     "iopub.status.idle": "2024-12-17T14:12:24.998240Z",
     "shell.execute_reply": "2024-12-17T14:12:24.996926Z"
    },
    "papermill": {
     "duration": 0.044706,
     "end_time": "2024-12-17T14:12:25.001098",
     "exception": false,
     "start_time": "2024-12-17T14:12:24.956392",
     "status": "completed"
    },
    "tags": []
   },
   "outputs": [
    {
     "name": "stdout",
     "output_type": "stream",
     "text": [
      "<class 'pandas.core.frame.DataFrame'>\n",
      "RangeIndex: 3522 entries, 0 to 3521\n",
      "Data columns (total 7 columns):\n",
      " #   Column              Non-Null Count  Dtype \n",
      "---  ------              --------------  ----- \n",
      " 0   Course Name         3522 non-null   object\n",
      " 1   University          3522 non-null   object\n",
      " 2   Difficulty Level    3522 non-null   object\n",
      " 3   Course Rating       3522 non-null   object\n",
      " 4   Course URL          3522 non-null   object\n",
      " 5   Course Description  3522 non-null   object\n",
      " 6   Skills              3522 non-null   object\n",
      "dtypes: object(7)\n",
      "memory usage: 192.7+ KB\n"
     ]
    }
   ],
   "source": [
    "data.info()"
   ]
  },
  {
   "cell_type": "code",
   "execution_count": 6,
   "id": "28855557",
   "metadata": {},
   "outputs": [
    {
     "data": {
      "text/html": [
       "<div>\n",
       "<style scoped>\n",
       "    .dataframe tbody tr th:only-of-type {\n",
       "        vertical-align: middle;\n",
       "    }\n",
       "\n",
       "    .dataframe tbody tr th {\n",
       "        vertical-align: top;\n",
       "    }\n",
       "\n",
       "    .dataframe thead th {\n",
       "        text-align: right;\n",
       "    }\n",
       "</style>\n",
       "<table border=\"1\" class=\"dataframe\">\n",
       "  <thead>\n",
       "    <tr style=\"text-align: right;\">\n",
       "      <th></th>\n",
       "      <th>Course Name</th>\n",
       "      <th>University</th>\n",
       "      <th>Difficulty Level</th>\n",
       "      <th>Course Rating</th>\n",
       "      <th>Course URL</th>\n",
       "      <th>Course Description</th>\n",
       "      <th>Skills</th>\n",
       "    </tr>\n",
       "  </thead>\n",
       "  <tbody>\n",
       "    <tr>\n",
       "      <th>count</th>\n",
       "      <td>3522</td>\n",
       "      <td>3522</td>\n",
       "      <td>3522</td>\n",
       "      <td>3522</td>\n",
       "      <td>3522</td>\n",
       "      <td>3522</td>\n",
       "      <td>3522</td>\n",
       "    </tr>\n",
       "    <tr>\n",
       "      <th>unique</th>\n",
       "      <td>3416</td>\n",
       "      <td>184</td>\n",
       "      <td>5</td>\n",
       "      <td>31</td>\n",
       "      <td>3424</td>\n",
       "      <td>3397</td>\n",
       "      <td>3424</td>\n",
       "    </tr>\n",
       "    <tr>\n",
       "      <th>top</th>\n",
       "      <td>Google Cloud Platform Fundamentals: Core Infra...</td>\n",
       "      <td>Coursera Project Network</td>\n",
       "      <td>Beginner</td>\n",
       "      <td>4.7</td>\n",
       "      <td>https://www.coursera.org/learn/gcp-fundamentals</td>\n",
       "      <td>This course introduces you to important concep...</td>\n",
       "      <td>Google Cloud Platform  Big Data  Cloud Infrast...</td>\n",
       "    </tr>\n",
       "    <tr>\n",
       "      <th>freq</th>\n",
       "      <td>8</td>\n",
       "      <td>562</td>\n",
       "      <td>1444</td>\n",
       "      <td>740</td>\n",
       "      <td>8</td>\n",
       "      <td>8</td>\n",
       "      <td>8</td>\n",
       "    </tr>\n",
       "  </tbody>\n",
       "</table>\n",
       "</div>"
      ],
      "text/plain": [
       "                                              Course Name   \n",
       "count                                                3522  \\\n",
       "unique                                               3416   \n",
       "top     Google Cloud Platform Fundamentals: Core Infra...   \n",
       "freq                                                    8   \n",
       "\n",
       "                      University Difficulty Level Course Rating   \n",
       "count                       3522             3522          3522  \\\n",
       "unique                       184                5            31   \n",
       "top     Coursera Project Network         Beginner           4.7   \n",
       "freq                         562             1444           740   \n",
       "\n",
       "                                             Course URL   \n",
       "count                                              3522  \\\n",
       "unique                                             3424   \n",
       "top     https://www.coursera.org/learn/gcp-fundamentals   \n",
       "freq                                                  8   \n",
       "\n",
       "                                       Course Description   \n",
       "count                                                3522  \\\n",
       "unique                                               3397   \n",
       "top     This course introduces you to important concep...   \n",
       "freq                                                    8   \n",
       "\n",
       "                                                   Skills  \n",
       "count                                                3522  \n",
       "unique                                               3424  \n",
       "top     Google Cloud Platform  Big Data  Cloud Infrast...  \n",
       "freq                                                    8  "
      ]
     },
     "execution_count": 6,
     "metadata": {},
     "output_type": "execute_result"
    }
   ],
   "source": [
    "data.describe()"
   ]
  },
  {
   "cell_type": "code",
   "execution_count": 7,
   "id": "7ac2d197",
   "metadata": {},
   "outputs": [
    {
     "data": {
      "text/plain": [
       "Index(['Course Name', 'University', 'Difficulty Level', 'Course Rating',\n",
       "       'Course URL', 'Course Description', 'Skills'],\n",
       "      dtype='object')"
      ]
     },
     "execution_count": 7,
     "metadata": {},
     "output_type": "execute_result"
    }
   ],
   "source": [
    "data.columns"
   ]
  },
  {
   "cell_type": "code",
   "execution_count": 8,
   "id": "41d9f3b1",
   "metadata": {},
   "outputs": [
    {
     "data": {
      "text/plain": [
       "(3522, 7)"
      ]
     },
     "execution_count": 8,
     "metadata": {},
     "output_type": "execute_result"
    }
   ],
   "source": [
    "data.shape "
   ]
  },
  {
   "cell_type": "code",
   "execution_count": 9,
   "id": "a5f96314",
   "metadata": {
    "execution": {
     "iopub.execute_input": "2024-12-17T14:12:25.017216Z",
     "iopub.status.busy": "2024-12-17T14:12:25.015793Z",
     "iopub.status.idle": "2024-12-17T14:12:25.028227Z",
     "shell.execute_reply": "2024-12-17T14:12:25.026945Z"
    },
    "papermill": {
     "duration": 0.022793,
     "end_time": "2024-12-17T14:12:25.030742",
     "exception": false,
     "start_time": "2024-12-17T14:12:25.007949",
     "status": "completed"
    },
    "tags": []
   },
   "outputs": [
    {
     "data": {
      "text/plain": [
       "Course Name           0\n",
       "University            0\n",
       "Difficulty Level      0\n",
       "Course Rating         0\n",
       "Course URL            0\n",
       "Course Description    0\n",
       "Skills                0\n",
       "dtype: int64"
      ]
     },
     "execution_count": 9,
     "metadata": {},
     "output_type": "execute_result"
    }
   ],
   "source": [
    "data.isnull().sum()"
   ]
  },
  {
   "cell_type": "code",
   "execution_count": 10,
   "id": "58c0a2b8",
   "metadata": {
    "execution": {
     "iopub.execute_input": "2024-12-17T14:12:25.046075Z",
     "iopub.status.busy": "2024-12-17T14:12:25.045539Z",
     "iopub.status.idle": "2024-12-17T14:12:25.055964Z",
     "shell.execute_reply": "2024-12-17T14:12:25.054958Z"
    },
    "papermill": {
     "duration": 0.020591,
     "end_time": "2024-12-17T14:12:25.058067",
     "exception": false,
     "start_time": "2024-12-17T14:12:25.037476",
     "status": "completed"
    },
    "tags": []
   },
   "outputs": [
    {
     "data": {
      "text/plain": [
       "Difficulty Level\n",
       "Beginner          1444\n",
       "Advanced          1005\n",
       "Intermediate       837\n",
       "Conversant         186\n",
       "Not Calibrated      50\n",
       "Name: count, dtype: int64"
      ]
     },
     "execution_count": 10,
     "metadata": {},
     "output_type": "execute_result"
    }
   ],
   "source": [
    "data['Difficulty Level'].value_counts()\n"
   ]
  },
  {
   "cell_type": "code",
   "execution_count": 11,
   "id": "c94bbde5",
   "metadata": {
    "execution": {
     "iopub.execute_input": "2024-12-17T14:12:25.073341Z",
     "iopub.status.busy": "2024-12-17T14:12:25.072838Z",
     "iopub.status.idle": "2024-12-17T14:12:25.090807Z",
     "shell.execute_reply": "2024-12-17T14:12:25.089589Z"
    },
    "papermill": {
     "duration": 0.028648,
     "end_time": "2024-12-17T14:12:25.093289",
     "exception": false,
     "start_time": "2024-12-17T14:12:25.064641",
     "status": "completed"
    },
    "tags": []
   },
   "outputs": [
    {
     "data": {
      "text/html": [
       "<div>\n",
       "<style scoped>\n",
       "    .dataframe tbody tr th:only-of-type {\n",
       "        vertical-align: middle;\n",
       "    }\n",
       "\n",
       "    .dataframe tbody tr th {\n",
       "        vertical-align: top;\n",
       "    }\n",
       "\n",
       "    .dataframe thead th {\n",
       "        text-align: right;\n",
       "    }\n",
       "</style>\n",
       "<table border=\"1\" class=\"dataframe\">\n",
       "  <thead>\n",
       "    <tr style=\"text-align: right;\">\n",
       "      <th></th>\n",
       "      <th>Course Name</th>\n",
       "      <th>Difficulty Level</th>\n",
       "      <th>Course Description</th>\n",
       "      <th>Skills</th>\n",
       "    </tr>\n",
       "  </thead>\n",
       "  <tbody>\n",
       "    <tr>\n",
       "      <th>0</th>\n",
       "      <td>Write A Feature Length Screenplay For Film Or ...</td>\n",
       "      <td>Beginner</td>\n",
       "      <td>Write a Full Length Feature Film Script  In th...</td>\n",
       "      <td>Drama  Comedy  peering  screenwriting  film  D...</td>\n",
       "    </tr>\n",
       "    <tr>\n",
       "      <th>1</th>\n",
       "      <td>Business Strategy: Business Model Canvas Analy...</td>\n",
       "      <td>Beginner</td>\n",
       "      <td>By the end of this guided project, you will be...</td>\n",
       "      <td>Finance  business plan  persona (user experien...</td>\n",
       "    </tr>\n",
       "    <tr>\n",
       "      <th>2</th>\n",
       "      <td>Silicon Thin Film Solar Cells</td>\n",
       "      <td>Advanced</td>\n",
       "      <td>This course consists of a general presentation...</td>\n",
       "      <td>chemistry  physics  Solar Energy  film  lambda...</td>\n",
       "    </tr>\n",
       "    <tr>\n",
       "      <th>3</th>\n",
       "      <td>Finance for Managers</td>\n",
       "      <td>Intermediate</td>\n",
       "      <td>When it comes to numbers, there is always more...</td>\n",
       "      <td>accounts receivable  dupont analysis  analysis...</td>\n",
       "    </tr>\n",
       "    <tr>\n",
       "      <th>4</th>\n",
       "      <td>Retrieve Data using Single-Table SQL Queries</td>\n",
       "      <td>Beginner</td>\n",
       "      <td>In this course you�ll learn how to effectively...</td>\n",
       "      <td>Data Analysis  select (sql)  database manageme...</td>\n",
       "    </tr>\n",
       "  </tbody>\n",
       "</table>\n",
       "</div>"
      ],
      "text/plain": [
       "                                         Course Name Difficulty Level   \n",
       "0  Write A Feature Length Screenplay For Film Or ...         Beginner  \\\n",
       "1  Business Strategy: Business Model Canvas Analy...         Beginner   \n",
       "2                      Silicon Thin Film Solar Cells         Advanced   \n",
       "3                               Finance for Managers     Intermediate   \n",
       "4       Retrieve Data using Single-Table SQL Queries         Beginner   \n",
       "\n",
       "                                  Course Description   \n",
       "0  Write a Full Length Feature Film Script  In th...  \\\n",
       "1  By the end of this guided project, you will be...   \n",
       "2  This course consists of a general presentation...   \n",
       "3  When it comes to numbers, there is always more...   \n",
       "4  In this course you�ll learn how to effectively...   \n",
       "\n",
       "                                              Skills  \n",
       "0  Drama  Comedy  peering  screenwriting  film  D...  \n",
       "1  Finance  business plan  persona (user experien...  \n",
       "2  chemistry  physics  Solar Energy  film  lambda...  \n",
       "3  accounts receivable  dupont analysis  analysis...  \n",
       "4  Data Analysis  select (sql)  database manageme...  "
      ]
     },
     "execution_count": 11,
     "metadata": {},
     "output_type": "execute_result"
    }
   ],
   "source": [
    "data= data[['Course Name','Difficulty Level','Course Description','Skills']]\n",
    "data.head(5)\n"
   ]
  },
  {
   "cell_type": "code",
   "execution_count": 12,
   "id": "9d9e6f02",
   "metadata": {
    "execution": {
     "iopub.execute_input": "2024-12-17T14:12:25.110272Z",
     "iopub.status.busy": "2024-12-17T14:12:25.109197Z",
     "iopub.status.idle": "2024-12-17T14:12:25.148370Z",
     "shell.execute_reply": "2024-12-17T14:12:25.147055Z"
    },
    "papermill": {
     "duration": 0.05008,
     "end_time": "2024-12-17T14:12:25.150821",
     "exception": false,
     "start_time": "2024-12-17T14:12:25.100741",
     "status": "completed"
    },
    "tags": []
   },
   "outputs": [
    {
     "data": {
      "text/html": [
       "<div>\n",
       "<style scoped>\n",
       "    .dataframe tbody tr th:only-of-type {\n",
       "        vertical-align: middle;\n",
       "    }\n",
       "\n",
       "    .dataframe tbody tr th {\n",
       "        vertical-align: top;\n",
       "    }\n",
       "\n",
       "    .dataframe thead th {\n",
       "        text-align: right;\n",
       "    }\n",
       "</style>\n",
       "<table border=\"1\" class=\"dataframe\">\n",
       "  <thead>\n",
       "    <tr style=\"text-align: right;\">\n",
       "      <th></th>\n",
       "      <th>Course Name</th>\n",
       "      <th>Difficulty Level</th>\n",
       "      <th>Course Description</th>\n",
       "      <th>Skills</th>\n",
       "      <th>tags</th>\n",
       "    </tr>\n",
       "  </thead>\n",
       "  <tbody>\n",
       "    <tr>\n",
       "      <th>0</th>\n",
       "      <td>Write A Feature Length Screenplay For Film Or ...</td>\n",
       "      <td>Beginner</td>\n",
       "      <td>Write a Full Length Feature Film Script  In th...</td>\n",
       "      <td>Drama  Comedy  peering  screenwriting  film  D...</td>\n",
       "      <td>Write A Feature Length Screenplay For Film Or ...</td>\n",
       "    </tr>\n",
       "    <tr>\n",
       "      <th>1</th>\n",
       "      <td>Business Strategy: Business Model Canvas Analy...</td>\n",
       "      <td>Beginner</td>\n",
       "      <td>By the end of this guided project, you will be...</td>\n",
       "      <td>Finance  business plan  persona (user experien...</td>\n",
       "      <td>Business Strategy: Business Model Canvas Analy...</td>\n",
       "    </tr>\n",
       "    <tr>\n",
       "      <th>2</th>\n",
       "      <td>Silicon Thin Film Solar Cells</td>\n",
       "      <td>Advanced</td>\n",
       "      <td>This course consists of a general presentation...</td>\n",
       "      <td>chemistry  physics  Solar Energy  film  lambda...</td>\n",
       "      <td>Silicon Thin Film Solar CellsAdvancedThis cour...</td>\n",
       "    </tr>\n",
       "    <tr>\n",
       "      <th>3</th>\n",
       "      <td>Finance for Managers</td>\n",
       "      <td>Intermediate</td>\n",
       "      <td>When it comes to numbers, there is always more...</td>\n",
       "      <td>accounts receivable  dupont analysis  analysis...</td>\n",
       "      <td>Finance for ManagersIntermediateWhen it comes ...</td>\n",
       "    </tr>\n",
       "    <tr>\n",
       "      <th>4</th>\n",
       "      <td>Retrieve Data using Single-Table SQL Queries</td>\n",
       "      <td>Beginner</td>\n",
       "      <td>In this course you�ll learn how to effectively...</td>\n",
       "      <td>Data Analysis  select (sql)  database manageme...</td>\n",
       "      <td>Retrieve Data using Single-Table SQL QueriesBe...</td>\n",
       "    </tr>\n",
       "  </tbody>\n",
       "</table>\n",
       "</div>"
      ],
      "text/plain": [
       "                                         Course Name Difficulty Level   \n",
       "0  Write A Feature Length Screenplay For Film Or ...         Beginner  \\\n",
       "1  Business Strategy: Business Model Canvas Analy...         Beginner   \n",
       "2                      Silicon Thin Film Solar Cells         Advanced   \n",
       "3                               Finance for Managers     Intermediate   \n",
       "4       Retrieve Data using Single-Table SQL Queries         Beginner   \n",
       "\n",
       "                                  Course Description   \n",
       "0  Write a Full Length Feature Film Script  In th...  \\\n",
       "1  By the end of this guided project, you will be...   \n",
       "2  This course consists of a general presentation...   \n",
       "3  When it comes to numbers, there is always more...   \n",
       "4  In this course you�ll learn how to effectively...   \n",
       "\n",
       "                                              Skills   \n",
       "0  Drama  Comedy  peering  screenwriting  film  D...  \\\n",
       "1  Finance  business plan  persona (user experien...   \n",
       "2  chemistry  physics  Solar Energy  film  lambda...   \n",
       "3  accounts receivable  dupont analysis  analysis...   \n",
       "4  Data Analysis  select (sql)  database manageme...   \n",
       "\n",
       "                                                tags  \n",
       "0  Write A Feature Length Screenplay For Film Or ...  \n",
       "1  Business Strategy: Business Model Canvas Analy...  \n",
       "2  Silicon Thin Film Solar CellsAdvancedThis cour...  \n",
       "3  Finance for ManagersIntermediateWhen it comes ...  \n",
       "4  Retrieve Data using Single-Table SQL QueriesBe...  "
      ]
     },
     "execution_count": 12,
     "metadata": {},
     "output_type": "execute_result"
    }
   ],
   "source": [
    "#Tags Column The tags column is the combination of the following columns : Course Name + Difficulty Level + Course Description + Skills\n",
    "data['tags'] = data['Course Name'] + data['Difficulty Level'] + data['Course Description'] + data['Skills']\n",
    "data.head(5)"
   ]
  },
  {
   "cell_type": "code",
   "execution_count": 13,
   "id": "333c7ede",
   "metadata": {
    "execution": {
     "iopub.execute_input": "2024-12-17T14:12:25.167585Z",
     "iopub.status.busy": "2024-12-17T14:12:25.167096Z",
     "iopub.status.idle": "2024-12-17T14:12:25.182376Z",
     "shell.execute_reply": "2024-12-17T14:12:25.181091Z"
    },
    "papermill": {
     "duration": 0.02633,
     "end_time": "2024-12-17T14:12:25.184714",
     "exception": false,
     "start_time": "2024-12-17T14:12:25.158384",
     "status": "completed"
    },
    "tags": []
   },
   "outputs": [
    {
     "data": {
      "text/html": [
       "<div>\n",
       "<style scoped>\n",
       "    .dataframe tbody tr th:only-of-type {\n",
       "        vertical-align: middle;\n",
       "    }\n",
       "\n",
       "    .dataframe tbody tr th {\n",
       "        vertical-align: top;\n",
       "    }\n",
       "\n",
       "    .dataframe thead th {\n",
       "        text-align: right;\n",
       "    }\n",
       "</style>\n",
       "<table border=\"1\" class=\"dataframe\">\n",
       "  <thead>\n",
       "    <tr style=\"text-align: right;\">\n",
       "      <th></th>\n",
       "      <th>Course Name</th>\n",
       "      <th>tags</th>\n",
       "    </tr>\n",
       "  </thead>\n",
       "  <tbody>\n",
       "    <tr>\n",
       "      <th>0</th>\n",
       "      <td>Write A Feature Length Screenplay For Film Or ...</td>\n",
       "      <td>Write A Feature Length Screenplay For Film Or ...</td>\n",
       "    </tr>\n",
       "    <tr>\n",
       "      <th>1</th>\n",
       "      <td>Business Strategy: Business Model Canvas Analy...</td>\n",
       "      <td>Business Strategy: Business Model Canvas Analy...</td>\n",
       "    </tr>\n",
       "    <tr>\n",
       "      <th>2</th>\n",
       "      <td>Silicon Thin Film Solar Cells</td>\n",
       "      <td>Silicon Thin Film Solar CellsAdvancedThis cour...</td>\n",
       "    </tr>\n",
       "    <tr>\n",
       "      <th>3</th>\n",
       "      <td>Finance for Managers</td>\n",
       "      <td>Finance for ManagersIntermediateWhen it comes ...</td>\n",
       "    </tr>\n",
       "    <tr>\n",
       "      <th>4</th>\n",
       "      <td>Retrieve Data using Single-Table SQL Queries</td>\n",
       "      <td>Retrieve Data using Single-Table SQL QueriesBe...</td>\n",
       "    </tr>\n",
       "  </tbody>\n",
       "</table>\n",
       "</div>"
      ],
      "text/plain": [
       "                                         Course Name   \n",
       "0  Write A Feature Length Screenplay For Film Or ...  \\\n",
       "1  Business Strategy: Business Model Canvas Analy...   \n",
       "2                      Silicon Thin Film Solar Cells   \n",
       "3                               Finance for Managers   \n",
       "4       Retrieve Data using Single-Table SQL Queries   \n",
       "\n",
       "                                                tags  \n",
       "0  Write A Feature Length Screenplay For Film Or ...  \n",
       "1  Business Strategy: Business Model Canvas Analy...  \n",
       "2  Silicon Thin Film Solar CellsAdvancedThis cour...  \n",
       "3  Finance for ManagersIntermediateWhen it comes ...  \n",
       "4  Retrieve Data using Single-Table SQL QueriesBe...  "
      ]
     },
     "execution_count": 13,
     "metadata": {},
     "output_type": "execute_result"
    }
   ],
   "source": [
    "data = data[['Course Name','tags']]\n",
    "data.head()\n"
   ]
  },
  {
   "cell_type": "code",
   "execution_count": 14,
   "id": "8b4ed357",
   "metadata": {
    "execution": {
     "iopub.execute_input": "2024-12-17T14:12:25.202784Z",
     "iopub.status.busy": "2024-12-17T14:12:25.202295Z",
     "iopub.status.idle": "2024-12-17T14:12:25.254048Z",
     "shell.execute_reply": "2024-12-17T14:12:25.252847Z"
    },
    "papermill": {
     "duration": 0.063923,
     "end_time": "2024-12-17T14:12:25.256245",
     "exception": false,
     "start_time": "2024-12-17T14:12:25.192322",
     "status": "completed"
    },
    "tags": []
   },
   "outputs": [],
   "source": [
    "#Data Pre-Processing\n",
    "data['Course Name'] = data['Course Name'].astype(str)\n",
    "data['tags'] = data['tags'].astype(str)\n",
    "data['tags'] = data['tags'].str.lower()\n"
   ]
  },
  {
   "cell_type": "code",
   "execution_count": 15,
   "id": "8d79d8f8",
   "metadata": {
    "execution": {
     "iopub.execute_input": "2024-12-17T14:12:25.272687Z",
     "iopub.status.busy": "2024-12-17T14:12:25.272212Z",
     "iopub.status.idle": "2024-12-17T14:12:25.485091Z",
     "shell.execute_reply": "2024-12-17T14:12:25.483645Z"
    },
    "papermill": {
     "duration": 0.224715,
     "end_time": "2024-12-17T14:12:25.488062",
     "exception": false,
     "start_time": "2024-12-17T14:12:25.263347",
     "status": "completed"
    },
    "tags": []
   },
   "outputs": [],
   "source": [
    "#Data_preproccing\n",
    "data['Course Name'] = data['Course Name'].str.replace('&', '', regex=False)\n",
    "data['Course Name'] = data['Course Name'].str.replace(':', '', regex=False)\n",
    "data['Course Name'] = data['Course Name'].str.replace('_', '', regex=False)\n",
    "data['Course Name'] = data['Course Name'].str.replace('-', '', regex=False)\n",
    "data['Course Name'] = data['Course Name'].str.replace('(', '', regex=False)\n",
    "data['Course Name'] = data['Course Name'].str.replace(')', '', regex=False)\n",
    "data['Course Name'] = data['Course Name'].str.replace('+', '', regex=False)\n",
    "data['Course Name'] = data['Course Name'].str.replace(',,', ',', regex=False)\n",
    "data['Course Name'] = data['Course Name'].str.replace(',,,', ',', regex=False)\n",
    "data['Course Name'] = data['Course Name'].str.replace(' ', ',', regex=False)\n",
    "data['Course Name'] = data['Course Name'].str.replace(\"'\", '', regex=False)\n",
    "data['Course Name'] = data['Course Name'].str.replace(',,', ',', regex=False)\n",
    "\n",
    "data['tags'] = data['tags'].str.replace('&', '', regex=False)\n",
    "data['tags'] = data['tags'].str.replace(':', '', regex=False)\n",
    "data['tags'] = data['tags'].str.replace('_', '', regex=False)\n",
    "data['tags'] = data['tags'].str.replace('-', '', regex=False)\n",
    "data['tags'] = data['tags'].str.replace('(', '', regex=False)\n",
    "data['tags'] = data['tags'].str.replace(')', '', regex=False)\n",
    "data['tags'] = data['tags'].str.replace('+', '', regex=False)\n",
    "data['tags'] = data['tags'].str.replace(',,', ',', regex=False)\n",
    "data['tags'] = data['tags'].str.replace(',,,', ',', regex=False)\n",
    "data['tags'] = data['tags'].str.replace(' ', ',', regex=False)\n",
    "data['tags'] = data['tags'].str.replace(\"'\", '', regex=False)\n",
    "data['tags'] = data['tags'].str.replace(',,', ',', regex=False)\n"
   ]
  },
  {
   "cell_type": "code",
   "execution_count": 16,
   "id": "2163a1de",
   "metadata": {
    "execution": {
     "iopub.execute_input": "2024-12-17T14:12:25.504852Z",
     "iopub.status.busy": "2024-12-17T14:12:25.504421Z",
     "iopub.status.idle": "2024-12-17T14:12:25.651489Z",
     "shell.execute_reply": "2024-12-17T14:12:25.649846Z"
    },
    "papermill": {
     "duration": 0.160617,
     "end_time": "2024-12-17T14:12:25.656347",
     "exception": false,
     "start_time": "2024-12-17T14:12:25.495730",
     "status": "completed"
    },
    "tags": []
   },
   "outputs": [],
   "source": [
    "#data-preproccing\n",
    "data['Course Name'] = data['Course Name'].str.replace(',,', ',', regex=False)\n",
    "data['Course Name'] = data['Course Name'].str.replace('.', ' ', regex=False)\n",
    "data['Course Name'] = data['Course Name'].str.replace('�', ',', regex=False)\n",
    "data['Course Name'] = data['Course Name'].str.replace(',', ' ', regex=False)\n",
    "data['tags'] = data['tags'].str.replace('.', ' ', regex=False)\n",
    "data['tags'] = data['tags'].str.replace(',,', ',', regex=False)\n",
    "data['tags'] = data['tags'].str.replace('�', ',', regex=False)\n",
    "data['tags'] = data['tags'].str.replace(',', ' ', regex=False)\n",
    "data['tags'] = data['tags'].str.replace('  ', ' ', regex=False)\n"
   ]
  },
  {
   "cell_type": "code",
   "execution_count": 17,
   "id": "17e6ff8b",
   "metadata": {
    "execution": {
     "iopub.execute_input": "2024-12-17T14:12:25.695087Z",
     "iopub.status.busy": "2024-12-17T14:12:25.694542Z",
     "iopub.status.idle": "2024-12-17T14:12:25.704549Z",
     "shell.execute_reply": "2024-12-17T14:12:25.703399Z"
    },
    "papermill": {
     "duration": 0.032584,
     "end_time": "2024-12-17T14:12:25.706935",
     "exception": false,
     "start_time": "2024-12-17T14:12:25.674351",
     "status": "completed"
    },
    "tags": []
   },
   "outputs": [
    {
     "data": {
      "text/plain": [
       "'business strategy business model canvas analysis with mirobeginnerby the end of this guided project you will be fluent in identifying and creating business model canvas solutions based on previous highlevel analyses and research data this will enable you to identify and map the elements required for new products and services furthermore it is essential for generating positive results for your business venture this guided project is designed to engage and harness your visionary and exploratory abilities you will use proven models in strategy and product development with the miro platform to explore and analyse your business propositions we will practice critically examining results from previous analysis and research results in deriving the values for each of the business model sections finance business plan persona user experience business model canvas planning business project product development presentation strategy business businessstrategy'"
      ]
     },
     "execution_count": 17,
     "metadata": {},
     "output_type": "execute_result"
    }
   ],
   "source": [
    "data['tags'].iloc[1]"
   ]
  },
  {
   "cell_type": "code",
   "execution_count": 18,
   "id": "fe83cff7",
   "metadata": {
    "execution": {
     "iopub.execute_input": "2024-12-17T14:12:25.724445Z",
     "iopub.status.busy": "2024-12-17T14:12:25.723941Z",
     "iopub.status.idle": "2024-12-17T14:12:57.791331Z",
     "shell.execute_reply": "2024-12-17T14:12:57.790064Z"
    },
    "papermill": {
     "duration": 32.086556,
     "end_time": "2024-12-17T14:12:57.801135",
     "exception": false,
     "start_time": "2024-12-17T14:12:25.714579",
     "status": "completed"
    },
    "tags": []
   },
   "outputs": [
    {
     "name": "stderr",
     "output_type": "stream",
     "text": [
      "[nltk_data] Downloading package stopwords to\n",
      "[nltk_data]     C:\\Users\\saidi\\AppData\\Roaming\\nltk_data...\n",
      "[nltk_data]   Package stopwords is already up-to-date!\n"
     ]
    }
   ],
   "source": [
    "#stopword like : is are ..\n",
    "nltk.download(\"stopwords\")\n",
    "from nltk.corpus import stopwords\n",
    "stop_words = set(stopwords.words('english'))\n"
   ]
  },
  {
   "cell_type": "code",
   "execution_count": 19,
   "id": "49b8dec5",
   "metadata": {
    "execution": {
     "iopub.execute_input": "2024-12-17T14:12:57.818732Z",
     "iopub.status.busy": "2024-12-17T14:12:57.818250Z",
     "iopub.status.idle": "2024-12-17T14:12:58.002024Z",
     "shell.execute_reply": "2024-12-17T14:12:58.000727Z"
    },
    "papermill": {
     "duration": 0.196861,
     "end_time": "2024-12-17T14:12:58.005368",
     "exception": false,
     "start_time": "2024-12-17T14:12:57.808507",
     "status": "completed"
    },
    "tags": []
   },
   "outputs": [],
   "source": [
    "#removing stopwords\n",
    "def remove_stopwords(text):\n",
    "    return \" \".join([word for word in text.split() if word.lower() not in stop_words])\n",
    "data['cleaned_tags'] = data['tags'].apply(remove_stopwords)\n"
   ]
  },
  {
   "cell_type": "code",
   "execution_count": 20,
   "id": "958f5cb8",
   "metadata": {
    "execution": {
     "iopub.execute_input": "2024-12-17T14:12:58.024547Z",
     "iopub.status.busy": "2024-12-17T14:12:58.024059Z",
     "iopub.status.idle": "2024-12-17T14:13:04.923187Z",
     "shell.execute_reply": "2024-12-17T14:13:04.921594Z"
    },
    "papermill": {
     "duration": 6.912641,
     "end_time": "2024-12-17T14:13:04.926209",
     "exception": false,
     "start_time": "2024-12-17T14:12:58.013568",
     "status": "completed"
    },
    "tags": []
   },
   "outputs": [],
   "source": [
    "#lemmaization ex: running=run .\n",
    "import spacy\n",
    "nlp = spacy.load(\"en_core_web_sm\")\n"
   ]
  },
  {
   "cell_type": "code",
   "execution_count": 21,
   "id": "f26d0b53",
   "metadata": {
    "execution": {
     "iopub.execute_input": "2024-12-17T14:13:04.943932Z",
     "iopub.status.busy": "2024-12-17T14:13:04.943199Z",
     "iopub.status.idle": "2024-12-17T14:15:05.466687Z",
     "shell.execute_reply": "2024-12-17T14:15:05.464780Z"
    },
    "papermill": {
     "duration": 120.536182,
     "end_time": "2024-12-17T14:15:05.470162",
     "exception": false,
     "start_time": "2024-12-17T14:13:04.933980",
     "status": "completed"
    },
    "tags": []
   },
   "outputs": [],
   "source": [
    "def lemmatize_text(text):\n",
    "    doc = nlp(text)\n",
    "    return \" \".join([token.lemma_ for token in doc])\n",
    "data['lemmatized_tags'] = data['tags'].apply(lemmatize_text)\n"
   ]
  },
  {
   "cell_type": "markdown",
   "id": "ca8e9f2a",
   "metadata": {
    "papermill": {
     "duration": 0.006853,
     "end_time": "2024-12-17T14:15:05.484940",
     "exception": false,
     "start_time": "2024-12-17T14:15:05.478087",
     "status": "completed"
    },
    "tags": []
   },
   "source": [
    "###   CountVectorizer"
   ]
  },
  {
   "cell_type": "code",
   "execution_count": 22,
   "id": "3f48face",
   "metadata": {
    "execution": {
     "iopub.execute_input": "2024-12-17T14:15:05.501609Z",
     "iopub.status.busy": "2024-12-17T14:15:05.501131Z",
     "iopub.status.idle": "2024-12-17T14:15:06.338159Z",
     "shell.execute_reply": "2024-12-17T14:15:06.336784Z"
    },
    "papermill": {
     "duration": 0.848896,
     "end_time": "2024-12-17T14:15:06.341159",
     "exception": false,
     "start_time": "2024-12-17T14:15:05.492263",
     "status": "completed"
    },
    "tags": []
   },
   "outputs": [],
   "source": [
    "#CountVectorizer\n",
    "from sklearn.feature_extraction.text import CountVectorizer\n",
    "cv = CountVectorizer( max_features=5000)\n",
    "vectors = cv.fit_transform(data['lemmatized_tags']).toarray()"
   ]
  },
  {
   "cell_type": "code",
   "execution_count": 23,
   "id": "e6432426",
   "metadata": {
    "execution": {
     "iopub.execute_input": "2024-12-17T14:15:06.357876Z",
     "iopub.status.busy": "2024-12-17T14:15:06.357381Z",
     "iopub.status.idle": "2024-12-17T14:15:06.364302Z",
     "shell.execute_reply": "2024-12-17T14:15:06.363023Z"
    },
    "papermill": {
     "duration": 0.017915,
     "end_time": "2024-12-17T14:15:06.366616",
     "exception": false,
     "start_time": "2024-12-17T14:15:06.348701",
     "status": "completed"
    },
    "tags": []
   },
   "outputs": [],
   "source": [
    "data.rename(columns = {'Course Name':'course_name'}, inplace = True)"
   ]
  },
  {
   "cell_type": "code",
   "execution_count": 24,
   "id": "b653a530",
   "metadata": {
    "execution": {
     "iopub.execute_input": "2024-12-17T14:15:06.384071Z",
     "iopub.status.busy": "2024-12-17T14:15:06.382877Z",
     "iopub.status.idle": "2024-12-17T14:15:06.388950Z",
     "shell.execute_reply": "2024-12-17T14:15:06.387778Z"
    },
    "papermill": {
     "duration": 0.016894,
     "end_time": "2024-12-17T14:15:06.391212",
     "exception": false,
     "start_time": "2024-12-17T14:15:06.374318",
     "status": "completed"
    },
    "tags": []
   },
   "outputs": [],
   "source": [
    "def preprocess_text(text):\n",
    "    text = text.lower()\n",
    "    text = text.translate(str.maketrans('', '', string.punctuation))\n",
    "    return text\n"
   ]
  },
  {
   "cell_type": "code",
   "execution_count": 25,
   "id": "654f9620",
   "metadata": {
    "execution": {
     "iopub.execute_input": "2024-12-17T14:15:06.408232Z",
     "iopub.status.busy": "2024-12-17T14:15:06.407644Z",
     "iopub.status.idle": "2024-12-17T14:15:06.413700Z",
     "shell.execute_reply": "2024-12-17T14:15:06.412575Z"
    },
    "papermill": {
     "duration": 0.017414,
     "end_time": "2024-12-17T14:15:06.416112",
     "exception": false,
     "start_time": "2024-12-17T14:15:06.398698",
     "status": "completed"
    },
    "tags": []
   },
   "outputs": [],
   "source": [
    "def preprocess_input(course_name, vectorizer):\n",
    "    course_name = preprocess_text(course_name)  \n",
    "    course_name_lemmatized = lemmatize_text(course_name)  \n",
    "    course_vector = vectorizer.transform([course_name_lemmatized]).toarray()  \n",
    "    return course_vector"
   ]
  },
  {
   "cell_type": "code",
   "execution_count": 26,
   "id": "21915e70",
   "metadata": {
    "execution": {
     "iopub.execute_input": "2024-12-17T14:15:06.432929Z",
     "iopub.status.busy": "2024-12-17T14:15:06.432438Z",
     "iopub.status.idle": "2024-12-17T14:15:06.781699Z",
     "shell.execute_reply": "2024-12-17T14:15:06.779920Z"
    },
    "papermill": {
     "duration": 0.366419,
     "end_time": "2024-12-17T14:15:06.789859",
     "exception": false,
     "start_time": "2024-12-17T14:15:06.423440",
     "status": "completed"
    },
    "tags": []
   },
   "outputs": [
    {
     "name": "stdout",
     "output_type": "stream",
     "text": [
      "Top 10 courses similar to 'Introduction to Machine Learning':\n",
      "Introduction to Applied Machine Learning\n",
      "Introduction to TensorFlow for Artificial Intelligence Machine Learning and Deep Learning\n",
      "Introduction to Machine Learning\n",
      "Machine Learning With Big Data\n",
      "Machine Learning for Data Analysis\n",
      "Machine Learning Foundations A Case Study Approach\n",
      "Machine Learning with H2O Flow\n",
      "Optimizing Machine Learning Performance\n",
      "Machine Learning Algorithms Supervised Learning Tip to Tail\n",
      "Machine Learning Using SAS Viya\n"
     ]
    }
   ],
   "source": [
    "def recommend(course_name, df, vectorizer, vectors, top_n=10):\n",
    "    course_vector = preprocess_input(course_name, vectorizer)\n",
    "    \n",
    "    similarity_scores = cosine_similarity(course_vector, vectors)\n",
    "    similarity_scores = similarity_scores[0]  \n",
    "    \n",
    "    similar_courses = [(index, score) for index, score in enumerate(similarity_scores)]\n",
    "    similar_courses_sorted = sorted(similar_courses, key=lambda x: x[1], reverse=True)\n",
    "    \n",
    "    print(f\"Top {top_n} courses similar to '{course_name}':\")\n",
    "    for i in similar_courses_sorted[:top_n]:\n",
    "        print(df.iloc[i[0]]['course_name'])  \n",
    "\n",
    "recommend(\"Introduction to Machine Learning\", data, cv, vectors, top_n=10)"
   ]
  },
  {
   "cell_type": "markdown",
   "id": "6a63d6b6",
   "metadata": {
    "papermill": {
     "duration": 0.022575,
     "end_time": "2024-12-17T14:15:06.837894",
     "exception": false,
     "start_time": "2024-12-17T14:15:06.815319",
     "status": "completed"
    },
    "tags": []
   },
   "source": [
    " ###   using TF-IDF Vectorizer\n"
   ]
  },
  {
   "cell_type": "code",
   "execution_count": 27,
   "id": "5d0c5249",
   "metadata": {
    "execution": {
     "iopub.execute_input": "2024-12-17T14:15:06.884667Z",
     "iopub.status.busy": "2024-12-17T14:15:06.884211Z",
     "iopub.status.idle": "2024-12-17T14:15:06.890037Z",
     "shell.execute_reply": "2024-12-17T14:15:06.888773Z"
    },
    "papermill": {
     "duration": 0.031211,
     "end_time": "2024-12-17T14:15:06.892514",
     "exception": false,
     "start_time": "2024-12-17T14:15:06.861303",
     "status": "completed"
    },
    "tags": []
   },
   "outputs": [],
   "source": [
    "from sklearn.feature_extraction.text import TfidfVectorizer\n",
    "tfidf_vectorizer = TfidfVectorizer(max_features=5000)"
   ]
  },
  {
   "cell_type": "code",
   "execution_count": 28,
   "id": "c99a81f8",
   "metadata": {
    "execution": {
     "iopub.execute_input": "2024-12-17T14:15:06.910421Z",
     "iopub.status.busy": "2024-12-17T14:15:06.909680Z",
     "iopub.status.idle": "2024-12-17T14:15:07.620861Z",
     "shell.execute_reply": "2024-12-17T14:15:07.619351Z"
    },
    "papermill": {
     "duration": 0.723936,
     "end_time": "2024-12-17T14:15:07.624022",
     "exception": false,
     "start_time": "2024-12-17T14:15:06.900086",
     "status": "completed"
    },
    "tags": []
   },
   "outputs": [],
   "source": [
    "vectors = tfidf_vectorizer.fit_transform(data['tags'])"
   ]
  },
  {
   "cell_type": "code",
   "execution_count": 29,
   "id": "79f1ba6f",
   "metadata": {},
   "outputs": [],
   "source": [
    "# Define parameters for Q-Learning\n",
    "num_courses = len(data)\n",
    "q_table = np.zeros((num_courses, num_courses))  # Q-Table: (state x action)\n",
    "learning_rate = 0.1\n",
    "discount_factor = 0.9\n",
    "epsilon = 0.2  # For exploration vs. exploitation"
   ]
  },
  {
   "cell_type": "code",
   "execution_count": 30,
   "id": "0c27b1fd",
   "metadata": {},
   "outputs": [],
   "source": [
    "similarity_matrix = cosine_similarity(vectors)"
   ]
  },
  {
   "cell_type": "code",
   "execution_count": 31,
   "id": "e6c44bcb",
   "metadata": {},
   "outputs": [],
   "source": [
    "# Normalize similarity values for rewards\n",
    "rewards = similarity_matrix / np.max(similarity_matrix)"
   ]
  },
  {
   "cell_type": "code",
   "execution_count": 32,
   "id": "7c4ab043",
   "metadata": {},
   "outputs": [],
   "source": [
    "# Q-Learning Algorithm\n",
    "import random\n",
    "def q_learning(num_episodes=1000):\n",
    "    for episode in range(num_episodes):\n",
    "        # Start with a random course\n",
    "        state = random.randint(0, num_courses - 1)\n",
    "        done = False\n",
    "        while not done:\n",
    "            # Choose action using epsilon-greedy policy\n",
    "            if random.uniform(0, 1) < epsilon:\n",
    "                action = random.randint(0, num_courses - 1)  # Explore\n",
    "            else:\n",
    "                action = np.argmax(q_table[state])  # Exploit\n",
    "            \n",
    "            # Get reward and update Q-value\n",
    "            reward = rewards[state, action]\n",
    "            next_state = action\n",
    "            max_next_q = np.max(q_table[next_state])\n",
    "            \n",
    "            # Update Q-Value using the Q-Learning formula\n",
    "            q_table[state, action] += learning_rate * (reward + discount_factor * max_next_q - q_table[state, action])\n",
    "            \n",
    "            # Transition to the next state\n",
    "            state = next_state\n",
    "            \n",
    "            # End if reward is very low (no further improvement)\n",
    "            if reward < 0.1:\n",
    "                done = True"
   ]
  },
  {
   "cell_type": "code",
   "execution_count": 33,
   "id": "005b54c5",
   "metadata": {},
   "outputs": [],
   "source": [
    "# Train the Q-Learning agent\n",
    "q_learning(num_episodes=5000)"
   ]
  },
  {
   "cell_type": "code",
   "execution_count": 34,
   "id": "e5545bf2",
   "metadata": {
    "execution": {
     "iopub.execute_input": "2024-12-17T14:15:07.641582Z",
     "iopub.status.busy": "2024-12-17T14:15:07.641091Z",
     "iopub.status.idle": "2024-12-17T14:15:07.673600Z",
     "shell.execute_reply": "2024-12-17T14:15:07.672136Z"
    },
    "papermill": {
     "duration": 0.044891,
     "end_time": "2024-12-17T14:15:07.676602",
     "exception": false,
     "start_time": "2024-12-17T14:15:07.631711",
     "status": "completed"
    },
    "tags": []
   },
   "outputs": [
    {
     "name": "stdout",
     "output_type": "stream",
     "text": [
      "Top 10 courses similar to 'Introduction to Machine Learning':\n",
      "Introduction to Applied Machine Learning\n",
      "Optimizing Machine Learning Performance\n",
      "Machine Learning for Data Analysis\n",
      "Machine Learning Foundations A Case Study Approach\n",
      "Machine Learning With Big Data\n",
      "Developing AI Applications on Azure\n",
      "Machine Learning for All\n",
      "How Google does Machine Learning\n",
      "Introduction to TensorFlow for Artificial Intelligence Machine Learning and Deep Learning\n",
      "Machine Learning with H2O Flow\n"
     ]
    }
   ],
   "source": [
    "def recommend(course_name, df, tfidf_vectorizer, top_n=10):\n",
    "    course_vector = tfidf_vectorizer.transform([course_name])\n",
    "    similarity_scores = cosine_similarity(course_vector, vectors)\n",
    "    similarity_scores = similarity_scores[0]\n",
    "    similar_courses = [(index, score) for index, score in enumerate(similarity_scores)]\n",
    "    similar_courses_sorted = sorted(similar_courses, key=lambda x: x[1], reverse=True)\n",
    "    print(f\"Top {top_n} courses similar to '{course_name}':\")\n",
    "    for i in similar_courses_sorted[:top_n]:\n",
    "        print(df.iloc[i[0]]['course_name'])  \n",
    "    \n",
    "recommend(\"Introduction to Machine Learning\", data, tfidf_vectorizer, top_n=10)\n"
   ]
  },
  {
   "cell_type": "code",
   "execution_count": 35,
   "id": "57840f21",
   "metadata": {},
   "outputs": [
    {
     "name": "stdout",
     "output_type": "stream",
     "text": [
      "Top 10 courses similar to 'Machine Learning':\n",
      "Introduction to Applied Machine Learning\n",
      "Machine Learning for Data Analysis\n",
      "Developing AI Applications on Azure\n",
      "Optimizing Machine Learning Performance\n",
      "Machine Learning Foundations A Case Study Approach\n",
      "How Google does Machine Learning\n",
      "Machine Learning for All\n",
      "Machine Learning With Big Data\n",
      "Machine Learning with Python\n",
      "Machine Learning with Python\n"
     ]
    }
   ],
   "source": [
    "recommend(\"Machine Learning\", data, tfidf_vectorizer, top_n=10)"
   ]
  },
  {
   "cell_type": "code",
   "execution_count": 36,
   "id": "bf4f5637",
   "metadata": {},
   "outputs": [
    {
     "name": "stdout",
     "output_type": "stream",
     "text": [
      "Top 10 courses similar to 'Python for Data Science':\n",
      "Python Data Analysis\n",
      "Python Data Representations\n",
      "Python for Data Science and AI\n",
      "Python for Data Science and AI\n",
      "Python for Data Science and AI\n",
      "Python for Data Science and AI\n",
      "Introduction to Data Science in Python\n",
      "Python Data Structures\n",
      "Python Data Visualization\n",
      "Python Data Structures\n"
     ]
    }
   ],
   "source": [
    "recommend(\"Python for Data Science\", data, tfidf_vectorizer, top_n=10)"
   ]
  },
  {
   "cell_type": "code",
   "execution_count": 37,
   "id": "140b8785",
   "metadata": {},
   "outputs": [],
   "source": [
    "#save the model\n",
    "import pickle\n",
    "with open(\"tfidf_vectorizer.pkl\", \"wb\") as file:\n",
    "    pickle.dump(tfidf_vectorizer, file)"
   ]
  },
  {
   "cell_type": "code",
   "execution_count": 38,
   "id": "67d4e917",
   "metadata": {},
   "outputs": [],
   "source": [
    "with open(\"q_table.pkl\", \"wb\") as file:\n",
    "    pickle.dump(q_table, file)"
   ]
  },
  {
   "cell_type": "code",
   "execution_count": 42,
   "id": "bd868488",
   "metadata": {},
   "outputs": [
    {
     "name": "stdout",
     "output_type": "stream",
     "text": [
      "Top 10 courses similar to 'Introduction to Machine Learning':\n",
      "Introduction to Applied Machine Learning 0.6618582820250818\n",
      "Machine Learning for Data Analysis 0.4984799492527886\n",
      "Optimizing Machine Learning Performance 0.4958968369739559\n",
      "Machine Learning With Big Data 0.47569393139314425\n",
      "Machine Learning Foundations: A Case Study Approach 0.47520920890741236\n",
      "How Google does Machine Learning 0.47155555042382336\n",
      "Machine Learning for All 0.44639249457453933\n",
      "Developing AI Applications on Azure 0.4396147620726836\n",
      "Machine Learning with Python 0.4357634804534163\n",
      "Machine Learning with Python 0.4357634804534163\n"
     ]
    }
   ],
   "source": [
    "tfidf_vectorizer = pickle.load(open(\"tfidf_vectorizer.pkl\", \"rb\"))\n",
    "q_table = pickle.load(open(\"q_table.pkl\", \"rb\"))\n",
    "data = pd.read_csv(\"Coursera.csv\")\n",
    "data['tags'] = data['Course Name'] + data['Difficulty Level'] + data['Course Description'] + data['Skills']\n",
    "\n",
    "vectors = tfidf_vectorizer.transform(data['tags'])\n",
    "#probability of the course recommendations\n",
    "def recommend(course_name, df, tfidf_vectorizer, top_n=10):\n",
    "    course_vector = tfidf_vectorizer.transform([course_name])\n",
    "    similarity_scores = cosine_similarity(course_vector, vectors)\n",
    "    similarity_scores = similarity_scores[0]\n",
    "    similar_courses = [(index, score) for index, score in enumerate(similarity_scores)]\n",
    "    similar_courses_sorted = sorted(similar_courses, key=lambda x: x[1], reverse=True)\n",
    "    print(f\"Top {top_n} courses similar to '{course_name}':\")\n",
    "    for i in similar_courses_sorted[:top_n]:\n",
    "        print(df.iloc[i[0]]['Course Name'], i[1])\n",
    "    \n",
    "recommend(\"Introduction to Machine Learning\", data, tfidf_vectorizer, top_n=10)"
   ]
  },
  {
   "cell_type": "code",
   "execution_count": 43,
   "id": "f59c6cd3",
   "metadata": {},
   "outputs": [
    {
     "name": "stdout",
     "output_type": "stream",
     "text": [
      "Top 3 courses similar to 'Introduction to Machine Learning':\n",
      "Introduction to Applied Machine Learning 0.6618582820250818\n",
      "Algorithms  Machine Learning Algorithms  Applied Machine Learning  Test Set  Machine Learning  ordered pair  Training  Human Learning  Deep Learning  business requirements data-science machine-learning\n",
      "Machine Learning for Data Analysis 0.4984799492527886\n",
      "Algorithms  Data Analysis  numbers (spreadsheet)  evaluation  Machine Learning  Regression  Dependent And Independent Variables  Human Learning  Regression Analysis  decision tree data-science machine-learning\n",
      "Optimizing Machine Learning Performance 0.4958968369739559\n",
      "project  Deep Learning  Strategy  mathematical optimization  Communication  performance  Machine Learning  use case  business requirements  process data-science machine-learning\n"
     ]
    }
   ],
   "source": [
    "#recommendation of the course only top 3 and also display the skills of the course below the course name\n",
    "data = pd.read_csv(\"Coursera.csv\")\n",
    "def recommend(course_name, df, tfidf_vectorizer, top_n=3):\n",
    "    course_vector = tfidf_vectorizer.transform([course_name])\n",
    "    similarity_scores = cosine_similarity(course_vector, vectors)\n",
    "    similarity_scores = similarity_scores[0]\n",
    "    similar_courses = [(index, score) for index, score in enumerate(similarity_scores)]\n",
    "    similar_courses_sorted = sorted(similar_courses, key=lambda x: x[1], reverse=True)\n",
    "    print(f\"Top {top_n} courses similar to '{course_name}':\")\n",
    "    for i in similar_courses_sorted[:top_n]:\n",
    "        print(df.iloc[i[0]]['Course Name'], i[1])\n",
    "        print(data.iloc[i[0]]['Skills'])\n",
    "    \n",
    "recommend(\"Introduction to Machine Learning\", data, tfidf_vectorizer, top_n=3)\n"
   ]
  }
 ],
 "metadata": {
  "kaggle": {
   "accelerator": "none",
   "dataSources": [
    {
     "datasetId": 1864990,
     "sourceId": 3045510,
     "sourceType": "datasetVersion"
    }
   ],
   "dockerImageVersionId": 30804,
   "isGpuEnabled": false,
   "isInternetEnabled": false,
   "language": "python",
   "sourceType": "notebook"
  },
  "kernelspec": {
   "display_name": "Python 3",
   "language": "python",
   "name": "python3"
  },
  "language_info": {
   "codemirror_mode": {
    "name": "ipython",
    "version": 3
   },
   "file_extension": ".py",
   "mimetype": "text/x-python",
   "name": "python",
   "nbconvert_exporter": "python",
   "pygments_lexer": "ipython3",
   "version": "3.11.4"
  },
  "papermill": {
   "default_parameters": {},
   "duration": 172.722897,
   "end_time": "2024-12-17T14:15:10.191789",
   "environment_variables": {},
   "exception": null,
   "input_path": "__notebook__.ipynb",
   "output_path": "__notebook__.ipynb",
   "parameters": {},
   "start_time": "2024-12-17T14:12:17.468892",
   "version": "2.6.0"
  }
 },
 "nbformat": 4,
 "nbformat_minor": 5
}
